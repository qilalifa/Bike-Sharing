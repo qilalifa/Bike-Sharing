{
  "cells": [
    {
      "cell_type": "markdown",
      "metadata": {
        "id": "H9wADwK78DCz"
      },
      "source": [
        "# Proyek Analisis Data: [Input Nama Dataset]\n",
        "- **Nama:** Aqilah Putri Alifah\n",
        "- **Email:** p.alifah@gmail.com\n",
        "- **ID Dicoding:** qilalifa"
      ]
    },
    {
      "cell_type": "markdown",
      "metadata": {
        "id": "eE0raob58DC0"
      },
      "source": [
        "## Menentukan Pertanyaan Bisnis"
      ]
    },
    {
      "cell_type": "markdown",
      "metadata": {
        "id": "GmQeQ5YF8DC0"
      },
      "source": [
        "- Bagaimana pengaruh cuaca terhadap peminjaman sepeda per tahunnya?\n",
        "- Apakah ada jam-jam tertentu di mana peminjaman sepeda pada puncaknya untuk tiap tahunnya?"
      ]
    },
    {
      "cell_type": "markdown",
      "metadata": {
        "id": "H-z4QGlO8DC1"
      },
      "source": [
        "## Import Semua Packages/Library yang Digunakan"
      ]
    },
    {
      "cell_type": "code",
      "execution_count": 1,
      "metadata": {
        "id": "FVYwaObI8DC1"
      },
      "outputs": [],
      "source": [
        "import pandas as pd\n",
        "import numpy as np\n",
        "import matplotlib.pyplot as plt\n",
        "import seaborn as sns"
      ]
    },
    {
      "cell_type": "markdown",
      "metadata": {
        "id": "h_Sh51Xy8DC1"
      },
      "source": [
        "## Data Wrangling"
      ]
    },
    {
      "cell_type": "markdown",
      "metadata": {
        "id": "sXU2GBYu8DC1"
      },
      "source": [
        "### Gathering Data"
      ]
    },
    {
      "cell_type": "code",
      "execution_count": 2,
      "metadata": {
        "colab": {
          "base_uri": "https://localhost:8080/",
          "height": 293
        },
        "id": "zjCBk1BI8DC1",
        "outputId": "3ade8a9e-7f0f-4e16-d7b0-fa8cd96612ef"
      },
      "outputs": [
        {
          "data": {
            "text/html": [
              "<div>\n",
              "<style scoped>\n",
              "    .dataframe tbody tr th:only-of-type {\n",
              "        vertical-align: middle;\n",
              "    }\n",
              "\n",
              "    .dataframe tbody tr th {\n",
              "        vertical-align: top;\n",
              "    }\n",
              "\n",
              "    .dataframe thead th {\n",
              "        text-align: right;\n",
              "    }\n",
              "</style>\n",
              "<table border=\"1\" class=\"dataframe\">\n",
              "  <thead>\n",
              "    <tr style=\"text-align: right;\">\n",
              "      <th></th>\n",
              "      <th>instant</th>\n",
              "      <th>dteday</th>\n",
              "      <th>season</th>\n",
              "      <th>yr</th>\n",
              "      <th>mnth</th>\n",
              "      <th>holiday</th>\n",
              "      <th>weekday</th>\n",
              "      <th>workingday</th>\n",
              "      <th>weathersit</th>\n",
              "      <th>temp</th>\n",
              "      <th>atemp</th>\n",
              "      <th>hum</th>\n",
              "      <th>windspeed</th>\n",
              "      <th>casual</th>\n",
              "      <th>registered</th>\n",
              "      <th>cnt</th>\n",
              "    </tr>\n",
              "  </thead>\n",
              "  <tbody>\n",
              "    <tr>\n",
              "      <th>0</th>\n",
              "      <td>1</td>\n",
              "      <td>2011-01-01</td>\n",
              "      <td>1</td>\n",
              "      <td>0</td>\n",
              "      <td>1</td>\n",
              "      <td>0</td>\n",
              "      <td>6</td>\n",
              "      <td>0</td>\n",
              "      <td>2</td>\n",
              "      <td>0.344167</td>\n",
              "      <td>0.363625</td>\n",
              "      <td>0.805833</td>\n",
              "      <td>0.160446</td>\n",
              "      <td>331</td>\n",
              "      <td>654</td>\n",
              "      <td>985</td>\n",
              "    </tr>\n",
              "    <tr>\n",
              "      <th>1</th>\n",
              "      <td>2</td>\n",
              "      <td>2011-01-02</td>\n",
              "      <td>1</td>\n",
              "      <td>0</td>\n",
              "      <td>1</td>\n",
              "      <td>0</td>\n",
              "      <td>0</td>\n",
              "      <td>0</td>\n",
              "      <td>2</td>\n",
              "      <td>0.363478</td>\n",
              "      <td>0.353739</td>\n",
              "      <td>0.696087</td>\n",
              "      <td>0.248539</td>\n",
              "      <td>131</td>\n",
              "      <td>670</td>\n",
              "      <td>801</td>\n",
              "    </tr>\n",
              "    <tr>\n",
              "      <th>2</th>\n",
              "      <td>3</td>\n",
              "      <td>2011-01-03</td>\n",
              "      <td>1</td>\n",
              "      <td>0</td>\n",
              "      <td>1</td>\n",
              "      <td>0</td>\n",
              "      <td>1</td>\n",
              "      <td>1</td>\n",
              "      <td>1</td>\n",
              "      <td>0.196364</td>\n",
              "      <td>0.189405</td>\n",
              "      <td>0.437273</td>\n",
              "      <td>0.248309</td>\n",
              "      <td>120</td>\n",
              "      <td>1229</td>\n",
              "      <td>1349</td>\n",
              "    </tr>\n",
              "    <tr>\n",
              "      <th>3</th>\n",
              "      <td>4</td>\n",
              "      <td>2011-01-04</td>\n",
              "      <td>1</td>\n",
              "      <td>0</td>\n",
              "      <td>1</td>\n",
              "      <td>0</td>\n",
              "      <td>2</td>\n",
              "      <td>1</td>\n",
              "      <td>1</td>\n",
              "      <td>0.200000</td>\n",
              "      <td>0.212122</td>\n",
              "      <td>0.590435</td>\n",
              "      <td>0.160296</td>\n",
              "      <td>108</td>\n",
              "      <td>1454</td>\n",
              "      <td>1562</td>\n",
              "    </tr>\n",
              "    <tr>\n",
              "      <th>4</th>\n",
              "      <td>5</td>\n",
              "      <td>2011-01-05</td>\n",
              "      <td>1</td>\n",
              "      <td>0</td>\n",
              "      <td>1</td>\n",
              "      <td>0</td>\n",
              "      <td>3</td>\n",
              "      <td>1</td>\n",
              "      <td>1</td>\n",
              "      <td>0.226957</td>\n",
              "      <td>0.229270</td>\n",
              "      <td>0.436957</td>\n",
              "      <td>0.186900</td>\n",
              "      <td>82</td>\n",
              "      <td>1518</td>\n",
              "      <td>1600</td>\n",
              "    </tr>\n",
              "  </tbody>\n",
              "</table>\n",
              "</div>"
            ],
            "text/plain": [
              "   instant      dteday  season  yr  mnth  holiday  weekday  workingday  \\\n",
              "0        1  2011-01-01       1   0     1        0        6           0   \n",
              "1        2  2011-01-02       1   0     1        0        0           0   \n",
              "2        3  2011-01-03       1   0     1        0        1           1   \n",
              "3        4  2011-01-04       1   0     1        0        2           1   \n",
              "4        5  2011-01-05       1   0     1        0        3           1   \n",
              "\n",
              "   weathersit      temp     atemp       hum  windspeed  casual  registered  \\\n",
              "0           2  0.344167  0.363625  0.805833   0.160446     331         654   \n",
              "1           2  0.363478  0.353739  0.696087   0.248539     131         670   \n",
              "2           1  0.196364  0.189405  0.437273   0.248309     120        1229   \n",
              "3           1  0.200000  0.212122  0.590435   0.160296     108        1454   \n",
              "4           1  0.226957  0.229270  0.436957   0.186900      82        1518   \n",
              "\n",
              "    cnt  \n",
              "0   985  \n",
              "1   801  \n",
              "2  1349  \n",
              "3  1562  \n",
              "4  1600  "
            ]
          },
          "execution_count": 2,
          "metadata": {},
          "output_type": "execute_result"
        }
      ],
      "source": [
        "day_data = pd.read_csv(\"day.csv\")\n",
        "day_data.head()"
      ]
    },
    {
      "cell_type": "code",
      "execution_count": 3,
      "metadata": {
        "colab": {
          "base_uri": "https://localhost:8080/",
          "height": 206
        },
        "id": "-mmIasynOLtW",
        "outputId": "a42502b1-5520-4484-9554-e9f300a5dd82"
      },
      "outputs": [
        {
          "data": {
            "text/html": [
              "<div>\n",
              "<style scoped>\n",
              "    .dataframe tbody tr th:only-of-type {\n",
              "        vertical-align: middle;\n",
              "    }\n",
              "\n",
              "    .dataframe tbody tr th {\n",
              "        vertical-align: top;\n",
              "    }\n",
              "\n",
              "    .dataframe thead th {\n",
              "        text-align: right;\n",
              "    }\n",
              "</style>\n",
              "<table border=\"1\" class=\"dataframe\">\n",
              "  <thead>\n",
              "    <tr style=\"text-align: right;\">\n",
              "      <th></th>\n",
              "      <th>instant</th>\n",
              "      <th>dteday</th>\n",
              "      <th>season</th>\n",
              "      <th>yr</th>\n",
              "      <th>mnth</th>\n",
              "      <th>hr</th>\n",
              "      <th>holiday</th>\n",
              "      <th>weekday</th>\n",
              "      <th>workingday</th>\n",
              "      <th>weathersit</th>\n",
              "      <th>temp</th>\n",
              "      <th>atemp</th>\n",
              "      <th>hum</th>\n",
              "      <th>windspeed</th>\n",
              "      <th>casual</th>\n",
              "      <th>registered</th>\n",
              "      <th>cnt</th>\n",
              "    </tr>\n",
              "  </thead>\n",
              "  <tbody>\n",
              "    <tr>\n",
              "      <th>0</th>\n",
              "      <td>1</td>\n",
              "      <td>2011-01-01</td>\n",
              "      <td>1</td>\n",
              "      <td>0</td>\n",
              "      <td>1</td>\n",
              "      <td>0</td>\n",
              "      <td>0</td>\n",
              "      <td>6</td>\n",
              "      <td>0</td>\n",
              "      <td>1</td>\n",
              "      <td>0.24</td>\n",
              "      <td>0.2879</td>\n",
              "      <td>0.81</td>\n",
              "      <td>0.0</td>\n",
              "      <td>3</td>\n",
              "      <td>13</td>\n",
              "      <td>16</td>\n",
              "    </tr>\n",
              "    <tr>\n",
              "      <th>1</th>\n",
              "      <td>2</td>\n",
              "      <td>2011-01-01</td>\n",
              "      <td>1</td>\n",
              "      <td>0</td>\n",
              "      <td>1</td>\n",
              "      <td>1</td>\n",
              "      <td>0</td>\n",
              "      <td>6</td>\n",
              "      <td>0</td>\n",
              "      <td>1</td>\n",
              "      <td>0.22</td>\n",
              "      <td>0.2727</td>\n",
              "      <td>0.80</td>\n",
              "      <td>0.0</td>\n",
              "      <td>8</td>\n",
              "      <td>32</td>\n",
              "      <td>40</td>\n",
              "    </tr>\n",
              "    <tr>\n",
              "      <th>2</th>\n",
              "      <td>3</td>\n",
              "      <td>2011-01-01</td>\n",
              "      <td>1</td>\n",
              "      <td>0</td>\n",
              "      <td>1</td>\n",
              "      <td>2</td>\n",
              "      <td>0</td>\n",
              "      <td>6</td>\n",
              "      <td>0</td>\n",
              "      <td>1</td>\n",
              "      <td>0.22</td>\n",
              "      <td>0.2727</td>\n",
              "      <td>0.80</td>\n",
              "      <td>0.0</td>\n",
              "      <td>5</td>\n",
              "      <td>27</td>\n",
              "      <td>32</td>\n",
              "    </tr>\n",
              "    <tr>\n",
              "      <th>3</th>\n",
              "      <td>4</td>\n",
              "      <td>2011-01-01</td>\n",
              "      <td>1</td>\n",
              "      <td>0</td>\n",
              "      <td>1</td>\n",
              "      <td>3</td>\n",
              "      <td>0</td>\n",
              "      <td>6</td>\n",
              "      <td>0</td>\n",
              "      <td>1</td>\n",
              "      <td>0.24</td>\n",
              "      <td>0.2879</td>\n",
              "      <td>0.75</td>\n",
              "      <td>0.0</td>\n",
              "      <td>3</td>\n",
              "      <td>10</td>\n",
              "      <td>13</td>\n",
              "    </tr>\n",
              "    <tr>\n",
              "      <th>4</th>\n",
              "      <td>5</td>\n",
              "      <td>2011-01-01</td>\n",
              "      <td>1</td>\n",
              "      <td>0</td>\n",
              "      <td>1</td>\n",
              "      <td>4</td>\n",
              "      <td>0</td>\n",
              "      <td>6</td>\n",
              "      <td>0</td>\n",
              "      <td>1</td>\n",
              "      <td>0.24</td>\n",
              "      <td>0.2879</td>\n",
              "      <td>0.75</td>\n",
              "      <td>0.0</td>\n",
              "      <td>0</td>\n",
              "      <td>1</td>\n",
              "      <td>1</td>\n",
              "    </tr>\n",
              "  </tbody>\n",
              "</table>\n",
              "</div>"
            ],
            "text/plain": [
              "   instant      dteday  season  yr  mnth  hr  holiday  weekday  workingday  \\\n",
              "0        1  2011-01-01       1   0     1   0        0        6           0   \n",
              "1        2  2011-01-01       1   0     1   1        0        6           0   \n",
              "2        3  2011-01-01       1   0     1   2        0        6           0   \n",
              "3        4  2011-01-01       1   0     1   3        0        6           0   \n",
              "4        5  2011-01-01       1   0     1   4        0        6           0   \n",
              "\n",
              "   weathersit  temp   atemp   hum  windspeed  casual  registered  cnt  \n",
              "0           1  0.24  0.2879  0.81        0.0       3          13   16  \n",
              "1           1  0.22  0.2727  0.80        0.0       8          32   40  \n",
              "2           1  0.22  0.2727  0.80        0.0       5          27   32  \n",
              "3           1  0.24  0.2879  0.75        0.0       3          10   13  \n",
              "4           1  0.24  0.2879  0.75        0.0       0           1    1  "
            ]
          },
          "execution_count": 3,
          "metadata": {},
          "output_type": "execute_result"
        }
      ],
      "source": [
        "hour_data = pd.read_csv(\"hour.csv\")\n",
        "hour_data.head()"
      ]
    },
    {
      "cell_type": "markdown",
      "metadata": {
        "id": "FHSiqaZp8DC1"
      },
      "source": [
        "### Assessing Data"
      ]
    },
    {
      "cell_type": "markdown",
      "metadata": {
        "id": "XIu2s_3J9NDd"
      },
      "source": [
        "Menilai tabel day_data"
      ]
    },
    {
      "cell_type": "code",
      "execution_count": 4,
      "metadata": {
        "colab": {
          "base_uri": "https://localhost:8080/"
        },
        "id": "ax-3tEjc9Cj1",
        "outputId": "33b2275d-a892-4923-929c-0db3eeb4e7c1"
      },
      "outputs": [
        {
          "name": "stdout",
          "output_type": "stream",
          "text": [
            "Columns:  Index(['instant', 'dteday', 'season', 'yr', 'mnth', 'holiday', 'weekday',\n",
            "       'workingday', 'weathersit', 'temp', 'atemp', 'hum', 'windspeed',\n",
            "       'casual', 'registered', 'cnt'],\n",
            "      dtype='object')\n",
            "Shape:  (731, 16)\n",
            "Info: \n",
            "<class 'pandas.core.frame.DataFrame'>\n",
            "RangeIndex: 731 entries, 0 to 730\n",
            "Data columns (total 16 columns):\n",
            " #   Column      Non-Null Count  Dtype  \n",
            "---  ------      --------------  -----  \n",
            " 0   instant     731 non-null    int64  \n",
            " 1   dteday      731 non-null    object \n",
            " 2   season      731 non-null    int64  \n",
            " 3   yr          731 non-null    int64  \n",
            " 4   mnth        731 non-null    int64  \n",
            " 5   holiday     731 non-null    int64  \n",
            " 6   weekday     731 non-null    int64  \n",
            " 7   workingday  731 non-null    int64  \n",
            " 8   weathersit  731 non-null    int64  \n",
            " 9   temp        731 non-null    float64\n",
            " 10  atemp       731 non-null    float64\n",
            " 11  hum         731 non-null    float64\n",
            " 12  windspeed   731 non-null    float64\n",
            " 13  casual      731 non-null    int64  \n",
            " 14  registered  731 non-null    int64  \n",
            " 15  cnt         731 non-null    int64  \n",
            "dtypes: float64(4), int64(11), object(1)\n",
            "memory usage: 91.5+ KB\n",
            "\n",
            "Missing Values:\n",
            "instant       0\n",
            "dteday        0\n",
            "season        0\n",
            "yr            0\n",
            "mnth          0\n",
            "holiday       0\n",
            "weekday       0\n",
            "workingday    0\n",
            "weathersit    0\n",
            "temp          0\n",
            "atemp         0\n",
            "hum           0\n",
            "windspeed     0\n",
            "casual        0\n",
            "registered    0\n",
            "cnt           0\n",
            "dtype: int64\n",
            "\n",
            "Unique Values:\n",
            "instant       731\n",
            "dteday        731\n",
            "season          4\n",
            "yr              2\n",
            "mnth           12\n",
            "holiday         2\n",
            "weekday         7\n",
            "workingday      2\n",
            "weathersit      3\n",
            "temp          499\n",
            "atemp         690\n",
            "hum           595\n",
            "windspeed     650\n",
            "casual        606\n",
            "registered    679\n",
            "cnt           696\n",
            "dtype: int64\n"
          ]
        }
      ],
      "source": [
        "print(\"Columns: \",day_data.columns)\n",
        "print(\"Shape: \",day_data.shape)\n",
        "print(\"Info: \")\n",
        "day_data.info()\n",
        "print(\"\\nMissing Values:\")\n",
        "print(day_data.isnull().sum())\n",
        "print(\"\\nUnique Values:\")\n",
        "print(day_data.nunique())"
      ]
    },
    {
      "cell_type": "markdown",
      "metadata": {
        "id": "DucDr8ljekLz"
      },
      "source": [
        "Menilai tabel hour_data"
      ]
    },
    {
      "cell_type": "code",
      "execution_count": 5,
      "metadata": {
        "colab": {
          "base_uri": "https://localhost:8080/"
        },
        "id": "Wk7H-fw_PcZc",
        "outputId": "cf194fc5-33e6-43f3-d73a-007193481c40"
      },
      "outputs": [
        {
          "name": "stdout",
          "output_type": "stream",
          "text": [
            "Columns:  Index(['instant', 'dteday', 'season', 'yr', 'mnth', 'hr', 'holiday', 'weekday',\n",
            "       'workingday', 'weathersit', 'temp', 'atemp', 'hum', 'windspeed',\n",
            "       'casual', 'registered', 'cnt'],\n",
            "      dtype='object')\n",
            "Shape:  (17379, 17)\n",
            "Info: \n",
            "<class 'pandas.core.frame.DataFrame'>\n",
            "RangeIndex: 17379 entries, 0 to 17378\n",
            "Data columns (total 17 columns):\n",
            " #   Column      Non-Null Count  Dtype  \n",
            "---  ------      --------------  -----  \n",
            " 0   instant     17379 non-null  int64  \n",
            " 1   dteday      17379 non-null  object \n",
            " 2   season      17379 non-null  int64  \n",
            " 3   yr          17379 non-null  int64  \n",
            " 4   mnth        17379 non-null  int64  \n",
            " 5   hr          17379 non-null  int64  \n",
            " 6   holiday     17379 non-null  int64  \n",
            " 7   weekday     17379 non-null  int64  \n",
            " 8   workingday  17379 non-null  int64  \n",
            " 9   weathersit  17379 non-null  int64  \n",
            " 10  temp        17379 non-null  float64\n",
            " 11  atemp       17379 non-null  float64\n",
            " 12  hum         17379 non-null  float64\n",
            " 13  windspeed   17379 non-null  float64\n",
            " 14  casual      17379 non-null  int64  \n",
            " 15  registered  17379 non-null  int64  \n",
            " 16  cnt         17379 non-null  int64  \n",
            "dtypes: float64(4), int64(12), object(1)\n",
            "memory usage: 2.3+ MB\n",
            "\n",
            "Missing Values:\n",
            "instant       0\n",
            "dteday        0\n",
            "season        0\n",
            "yr            0\n",
            "mnth          0\n",
            "hr            0\n",
            "holiday       0\n",
            "weekday       0\n",
            "workingday    0\n",
            "weathersit    0\n",
            "temp          0\n",
            "atemp         0\n",
            "hum           0\n",
            "windspeed     0\n",
            "casual        0\n",
            "registered    0\n",
            "cnt           0\n",
            "dtype: int64\n",
            "\n",
            "Unique Values:\n",
            "instant       17379\n",
            "dteday          731\n",
            "season            4\n",
            "yr                2\n",
            "mnth             12\n",
            "hr               24\n",
            "holiday           2\n",
            "weekday           7\n",
            "workingday        2\n",
            "weathersit        4\n",
            "temp             50\n",
            "atemp            65\n",
            "hum              89\n",
            "windspeed        30\n",
            "casual          322\n",
            "registered      776\n",
            "cnt             869\n",
            "dtype: int64\n"
          ]
        }
      ],
      "source": [
        "print(\"Columns: \",hour_data.columns)\n",
        "print(\"Shape: \",hour_data.shape)\n",
        "print(\"Info: \")\n",
        "hour_data.info()\n",
        "print(\"\\nMissing Values:\")\n",
        "print(hour_data.isnull().sum())\n",
        "print(\"\\nUnique Values:\")\n",
        "print(hour_data.nunique())"
      ]
    },
    {
      "cell_type": "markdown",
      "metadata": {
        "id": "EhN5R4hr8DC1"
      },
      "source": [
        "### Cleaning Data"
      ]
    },
    {
      "cell_type": "markdown",
      "metadata": {
        "id": "9TARHVCv9qWT"
      },
      "source": [
        "Clenaning tabel day_data dari duplikasi dan missing value"
      ]
    },
    {
      "cell_type": "code",
      "execution_count": 6,
      "metadata": {
        "colab": {
          "base_uri": "https://localhost:8080/"
        },
        "id": "jVnYpprE9Evz",
        "outputId": "a839ee55-e1e1-4817-8ffe-a98929d38288"
      },
      "outputs": [
        {
          "name": "stdout",
          "output_type": "stream",
          "text": [
            "Duplikasi: 0\n"
          ]
        }
      ],
      "source": [
        "print(\"Duplikasi:\", day_data.duplicated().sum())\n",
        "day_data.drop_duplicates(inplace=True)"
      ]
    },
    {
      "cell_type": "code",
      "execution_count": 7,
      "metadata": {
        "colab": {
          "base_uri": "https://localhost:8080/"
        },
        "id": "TaBHfZhsfQhT",
        "outputId": "2f120633-4bf1-437d-a902-81741a6903a0"
      },
      "outputs": [
        {
          "name": "stdout",
          "output_type": "stream",
          "text": [
            "No Missing Value\n"
          ]
        }
      ],
      "source": [
        "missing_day = day_data.isnull().sum()\n",
        "if missing_day.any():\n",
        "    print(\"Missing Value: \")\n",
        "    print(missing_day)\n",
        "    day_data.fillna(method='ffill', inplace=True)\n",
        "else:\n",
        "    print(\"No Missing Value\")"
      ]
    },
    {
      "cell_type": "markdown",
      "metadata": {
        "id": "yuPumoDG91JR"
      },
      "source": [
        "Cleaning tabel hour_data dari duplikasi dan missing value"
      ]
    },
    {
      "cell_type": "code",
      "execution_count": 9,
      "metadata": {
        "colab": {
          "base_uri": "https://localhost:8080/"
        },
        "id": "H6i4RRc8T-oU",
        "outputId": "0fda3126-70ed-4f84-fa7f-8baa19e9c764"
      },
      "outputs": [
        {
          "name": "stdout",
          "output_type": "stream",
          "text": [
            "Duplikasi: 0\n"
          ]
        }
      ],
      "source": [
        "print(\"Duplikasi:\", hour_data.duplicated().sum())\n",
        "hour_data.drop_duplicates(inplace=True)"
      ]
    },
    {
      "cell_type": "code",
      "execution_count": 10,
      "metadata": {
        "colab": {
          "base_uri": "https://localhost:8080/"
        },
        "id": "qGDMwvGufrnj",
        "outputId": "85b1b730-d398-4fca-b837-049e75afb890"
      },
      "outputs": [
        {
          "name": "stdout",
          "output_type": "stream",
          "text": [
            "No Missing Value\n"
          ]
        }
      ],
      "source": [
        "missing_hour = hour_data.isnull().sum()\n",
        "if missing_hour.any():\n",
        "    print(\"Missing Value: \")\n",
        "    print(missing_hour)\n",
        "    hour_data.fillna(method='ffill', inplace=True)\n",
        "else:\n",
        "    print(\"No Missing Value\")"
      ]
    },
    {
      "cell_type": "markdown",
      "metadata": {
        "id": "gp-Y6wU38DC1"
      },
      "source": [
        "## Exploratory Data Analysis (EDA)"
      ]
    },
    {
      "cell_type": "markdown",
      "metadata": {
        "id": "MW7WF2kr8DC1"
      },
      "source": [
        "### Menghitung penggunaan sepeda berdasarkan cuaca untuk tiap tahunnya\n",
        "Mengubah nilai cuaca menjadi lebih deskriptif seperti \"Sunny\", \"Rain\", dan \"Heavy Rain\". Untuk menghitung jumlah peminjaman sepeda menggunakan fungsi `sum()`\n",
        "\n"
      ]
    },
    {
      "cell_type": "code",
      "execution_count": 11,
      "metadata": {
        "id": "e9CQCZjk8DC2"
      },
      "outputs": [],
      "source": [
        "day_data[\"weathersit\"] = day_data[\"weathersit\"].replace({\n",
        "    1: \"Sunny\",\n",
        "    2: \"Rain\",\n",
        "    3: \"Heavy Rain\"})\n",
        "day_data[\"year\"] = pd.to_datetime(day_data[\"dteday\"]).dt.year"
      ]
    },
    {
      "cell_type": "code",
      "execution_count": 12,
      "metadata": {
        "colab": {
          "base_uri": "https://localhost:8080/"
        },
        "id": "3hmpkJMZxu7n",
        "outputId": "66068240-a63f-4ab0-e26c-b5ceae888afb"
      },
      "outputs": [
        {
          "name": "stdout",
          "output_type": "stream",
          "text": [
            "Jumlah Peminjaman Sepeda berdasarkan cuaca\n",
            "weathersit  Heavy Rain    Rain    Sunny\n",
            "year                                   \n",
            "2011             25112  382924   835067\n",
            "2012             12757  613934  1422885\n"
          ]
        }
      ],
      "source": [
        "bike_counts_by_weather = pd.pivot_table(day_data, values=\"cnt\", index=\"year\", columns=\"weathersit\", aggfunc=\"sum\", fill_value=0)\n",
        "print(\"Jumlah Peminjaman Sepeda berdasarkan cuaca\")\n",
        "print(bike_counts_by_weather)"
      ]
    },
    {
      "cell_type": "markdown",
      "metadata": {
        "id": "mbvh5JJL393l"
      },
      "source": [
        "### Menghitung Peminjaman Sepeda Berdasarkan Jam untuk tiap tahun\n",
        "Mengitung total sepeda yang dipinjam untuk tiap jamnya dengan menggunakan fungsi `sum()`\n",
        "\n",
        "\n"
      ]
    },
    {
      "cell_type": "code",
      "execution_count": 13,
      "metadata": {
        "id": "DHWrySqD76UW"
      },
      "outputs": [],
      "source": [
        "hour_data[\"year\"] = pd.to_datetime(hour_data[\"dteday\"]).dt.year"
      ]
    },
    {
      "cell_type": "code",
      "execution_count": 14,
      "metadata": {
        "colab": {
          "base_uri": "https://localhost:8080/"
        },
        "id": "vLQJ5tot89dK",
        "outputId": "d4744505-8c5a-45cc-f8b3-437f269a989b"
      },
      "outputs": [
        {
          "name": "stdout",
          "output_type": "stream",
          "text": [
            "Jumlah Peminjaman Sepeda berdasarkan jam\n",
            "year    2011    2012\n",
            "hr                  \n",
            "0      15540   23590\n",
            "1       9558   14606\n",
            "2       6661    9691\n",
            "3       3441    4733\n",
            "4       1817    2611\n",
            "5       5157    9104\n",
            "6      20801   34331\n",
            "7      56930   97241\n",
            "8      95467  165534\n",
            "9      59486   99952\n",
            "10     47511   78746\n",
            "11     56598   94722\n",
            "12     69198  115216\n",
            "13     69339  115580\n",
            "14     66482  109170\n",
            "15     68590  114559\n",
            "16     85622  142126\n",
            "17    127632  209228\n",
            "18    116985  192787\n",
            "19     85802  140987\n",
            "20     62818  101732\n",
            "21     48875   76570\n",
            "22     37677   57935\n",
            "23     25116   38825\n"
          ]
        }
      ],
      "source": [
        "pivot_hour = pd.pivot_table(hour_data, values=\"cnt\", index=\"hr\", columns=\"year\", aggfunc=\"sum\", fill_value=0)\n",
        "print(\"Jumlah Peminjaman Sepeda berdasarkan jam\")\n",
        "print(pivot_hour)"
      ]
    },
    {
      "cell_type": "markdown",
      "metadata": {
        "id": "zsyZjqak8DC2"
      },
      "source": [
        "## Visualization & Explanatory Analysis"
      ]
    },
    {
      "cell_type": "markdown",
      "metadata": {
        "id": "HZxOiQ6n8DC2"
      },
      "source": [
        "### Pertanyaan 1:\n",
        "Bagaimana pengaruh cuaca terhadap peminjaman sepeda per tahunnya?"
      ]
    },
    {
      "cell_type": "markdown",
      "metadata": {
        "id": "hPmcjddIFJTu"
      },
      "source": [
        "Kode di bawah membuat Bar chart untuk menampilkan total jumlah peminjaman sepeda berdasarkan cuaca pertahunnya.\n",
        "\n",
        "Dari Bar chart dibawah dapat dilihat bahwa **peminjaman sepeda untuk tahun 2011 dan 2012 paling banyak ada pada cuaca Sunny**."
      ]
    },
    {
      "cell_type": "code",
      "execution_count": 16,
      "metadata": {
        "colab": {
          "base_uri": "https://localhost:8080/",
          "height": 601
        },
        "id": "zqnfBU0aCYiX",
        "outputId": "4fa0db45-553d-4b8b-d2c0-d545c6b1e9c8"
      },
      "outputs": [
        {
          "name": "stderr",
          "output_type": "stream",
          "text": [
            "No artists with labels found to put in legend.  Note that artists whose label start with an underscore are ignored when legend() is called with no argument.\n"
          ]
        },
        {
          "data": {
            "image/png": "[encoded data removed]",
            "text/plain": [
              "<Figure size 1200x600 with 1 Axes>"
            ]
          },
          "metadata": {},
          "output_type": "display_data"
        }
      ],
      "source": [
        "ax = bike_counts_by_weather.unstack().plot(kind=\"bar\", figsize=(12, 6), width=0.8)\n",
        "plt.title(\"Jumlah Peminjaman Sepeda berdasarkan Cuaca\")\n",
        "plt.xlabel(\"Cuaca\")\n",
        "plt.ylabel(\"Jumlah Peminjaman Sepeda\")\n",
        "plt.xticks(rotation=0)\n",
        "plt.legend(title=\"Tahun\")\n",
        "plt.grid(axis=\"y\")\n",
        "for p in ax.patches:\n",
        "    height = p.get_height()\n",
        "    ax.annotate('{}'.format(height),\n",
        "                xy=(p.get_x() + p.get_width() / 2, height),\n",
        "                xytext=(0, 3),\n",
        "                textcoords=\"offset points\",\n",
        "                ha='center', va='bottom')\n",
        "plt.show()"
      ]
    },
    {
      "cell_type": "markdown",
      "metadata": {
        "id": "DgHI7CiU8DC2"
      },
      "source": [
        "### Pertanyaan 2:\n",
        "Apakah ada jam-jam tertentu di mana peminjaman sepeda pada puncaknya untuk tiap tahunnya?"
      ]
    },
    {
      "cell_type": "markdown",
      "metadata": {
        "id": "QQmhCY0pIa1v"
      },
      "source": [
        "Kode di bawah membuat Line chart untuk menampilkan jumlah peminjaman tiap jam untuk tiap tahunnya.\n",
        "\n",
        "Dari Line chart dibawah dapat dilihat bahwa **peminjaman sepeda ada pada puncaknya untuk tahun 2011 dan 2012 adalah pukul 08.00 dan pukul 17.00**."
      ]
    },
    {
      "cell_type": "code",
      "execution_count": 17,
      "metadata": {
        "colab": {
          "base_uri": "https://localhost:8080/",
          "height": 564
        },
        "id": "Go0lCsvO8DC2",
        "outputId": "95a5f8a5-36b5-4414-bdf0-0daeb7ea82f9"
      },
      "outputs": [
        {
          "data": {
            "image/png": "[encoded data removed]",
            "text/plain": [
              "<Figure size 1000x600 with 1 Axes>"
            ]
          },
          "metadata": {},
          "output_type": "display_data"
        }
      ],
      "source": [
        "pivot_hour.plot(kind=\"line\", figsize=(10, 6), marker='o')\n",
        "plt.title(\"Jumlah Peminjaman Sepeda berdasarkan Jam\")\n",
        "plt.xlabel(\"Jam\")\n",
        "plt.ylabel(\"Jumlah Peminjaman Sepeda\")\n",
        "plt.xticks(range(24))\n",
        "plt.grid(True)\n",
        "plt.legend(title=\"Tahun\")\n",
        "plt.show()"
      ]
    },
    {
      "cell_type": "markdown",
      "metadata": {
        "id": "_WeHlCeX8DC2"
      },
      "source": [
        "## Conclusion"
      ]
    },
    {
      "cell_type": "markdown",
      "metadata": {
        "id": "yJ2rjUMbJRy2"
      },
      "source": [
        "### Pertanyaan 1:\n",
        "Bagaimana pengaruh cuaca terhadap peminjaman sepeda per tahunnya?"
      ]
    },
    {
      "cell_type": "markdown",
      "metadata": {
        "id": "lusyF-toJoNy"
      },
      "source": [
        "Berdasarkan dari hasil analisis, dapat disimpulkan bahwa cuaca memiliki pengaruh terhadap jumlah peminjaman sepeda.\n",
        "\n",
        "1.   Untuk tahun 2011, jumlah peminjaman sepeda paling banyak saat kondisi cuaca *sunny* dengan total jumlah **8.35.067**.\n",
        "2.   Untuk tahun 2012, jumlah peminjaman sepeda paling banyak saat kondisi cuaca *sunny* dengan total jumlah **14.22.885**.\n",
        "3.   Tahun 2012 memiliki peningkatan jumlah peminjaman sepeda dari pada tahun 2011 dengan kondisi cuaca yang sama\n",
        "4.   Kondisi cuaca *Rain*, dan *Heavy rain* mengalami penurunan total jumlah peminjaman.\n",
        "\n",
        "\n",
        "\n"
      ]
    },
    {
      "cell_type": "markdown",
      "metadata": {
        "id": "w7x5lxtXJoob"
      },
      "source": [
        "### Pertanyaan 2:\n",
        "Apakah ada jam-jam tertentu di mana peminjaman sepeda pada puncaknya untuk tiap tahunnya?"
      ]
    },
    {
      "cell_type": "markdown",
      "metadata": {
        "id": "dCmR0pMDLUp4"
      },
      "source": [
        "Berdasarkan dari hasil analisis, dapat disimpulkan bahwa.\n",
        "\n",
        "1.   Untuk tahun 2011, puncak peminjaman sepeda terjadi pada pukul 08.00 dengan total **95.467** dan pukul 17.00 dengan total **127.632**.\n",
        "2. Untuk tahun 2012, puncak peminjaman sepeda terjadi pada pukul 08.00 dengan total **165.534** dan pukul 17.00 dengan total **209.228**.\n",
        "3. Jumlah peminjaman pada tahun 2012 lebih banyak dari pada jumlah peminjaman pada tahun 2011 untuk jam yang sama.\n",
        "\n",
        "\n",
        "\n",
        "\n",
        "\n"
      ]
    }
  ],
  "metadata": {
    "colab": {
      "provenance": []
    },
    "kernelspec": {
      "display_name": "Python 3",
      "language": "python",
      "name": "python3"
    },
    "language_info": {
      "codemirror_mode": {
        "name": "ipython",
        "version": 3
      },
      "file_extension": ".py",
      "mimetype": "text/x-python",
      "name": "python",
      "nbconvert_exporter": "python",
      "pygments_lexer": "ipython3",
      "version": "3.11.2"
    },
    "orig_nbformat": 4,
    "vscode": {
      "interpreter": {
        "hash": "972b3bf27e332e87b5379f2791f6ef9dfc79c71018c370b0d7423235e20fe4d7"
      }
    }
  },
  "nbformat": 4,
  "nbformat_minor": 0
}
